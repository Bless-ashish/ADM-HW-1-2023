{
 "cells": [
  {
   "cell_type": "markdown",
   "id": "c28ba17d",
   "metadata": {},
   "source": [
    "<h2> Problem 1. HACKERRANK</h2>"
   ]
  },
  {
   "cell_type": "markdown",
   "id": "45d72dee",
   "metadata": {},
   "source": [
    "<center> <h3> Introduction ( all- total --> 7)</h3>"
   ]
  },
  {
   "cell_type": "markdown",
   "id": "04c009bf",
   "metadata": {},
   "source": [
    "#### Say \"Hello, World!\" With Python"
   ]
  },
  {
   "cell_type": "code",
   "execution_count": null,
   "id": "52ce6bd5",
   "metadata": {},
   "outputs": [],
   "source": [
    "if __name__ == '__main__':\n",
    "    print(\"Hello, World!\")\n"
   ]
  },
  {
   "cell_type": "markdown",
   "id": "4428a24f",
   "metadata": {},
   "source": [
    "#### Arithmetic Operators"
   ]
  },
  {
   "cell_type": "code",
   "execution_count": null,
   "id": "ce2a7c17",
   "metadata": {},
   "outputs": [],
   "source": [
    "a,b= int(input()) ,int(input())\n",
    "print(a+b,a-b,a*b,sep=\"\\n\")\n"
   ]
  },
  {
   "cell_type": "markdown",
   "id": "1251f61d",
   "metadata": {},
   "source": [
    "#### Python: Division"
   ]
  },
  {
   "cell_type": "code",
   "execution_count": null,
   "id": "7cd3ee58",
   "metadata": {},
   "outputs": [],
   "source": [
    "a,b = int(input()),int(input())\n",
    "print(a//b,a/b,sep=\"\\n\")\n"
   ]
  },
  {
   "cell_type": "markdown",
   "id": "a2b1430f",
   "metadata": {},
   "source": [
    "#### Loops"
   ]
  },
  {
   "cell_type": "code",
   "execution_count": null,
   "id": "adfda1ea",
   "metadata": {},
   "outputs": [],
   "source": [
    "if __name__ == '__main__':\n",
    "    n = int(input())\n",
    "    for i in range(n):\n",
    "        print(i**2)\n"
   ]
  },
  {
   "cell_type": "markdown",
   "id": "a1deb948",
   "metadata": {},
   "source": [
    "#### Write a function"
   ]
  },
  {
   "cell_type": "code",
   "execution_count": null,
   "id": "05941ca8",
   "metadata": {},
   "outputs": [],
   "source": [
    "def is_leap(year):\n",
    "    leap = False\n",
    "    \n",
    "    # Write your logic here\n",
    "    if (year in range(1900,100001)):\n",
    "        return (year%4==0 and (year%400==0 or year%100!=0))\n",
    "    else:\n",
    "        return \"Input constraint did'nt match\"\n",
    "\n",
    "    \n",
    "    return leap\n",
    "\n"
   ]
  },
  {
   "cell_type": "markdown",
   "id": "332c4d89",
   "metadata": {},
   "source": [
    "#### Print Function"
   ]
  },
  {
   "cell_type": "code",
   "execution_count": null,
   "id": "7a932fe1",
   "metadata": {},
   "outputs": [],
   "source": [
    "if __name__ == '__main__':\n",
    "    n = int(input())\n",
    "    if n in range(1,151):\n",
    "        for i in range(1,n+1):\n",
    "            print(i,end=\"\")\n",
    "    else:\n",
    "        print(\"Input Constraint didnt match\")\n"
   ]
  },
  {
   "cell_type": "markdown",
   "id": "00113d78",
   "metadata": {},
   "source": [
    "#### Python If-Else"
   ]
  },
  {
   "cell_type": "code",
   "execution_count": null,
   "id": "57a0d5f9",
   "metadata": {},
   "outputs": [],
   "source": [
    "#!/bin/python3\n",
    "n = int(input())\n",
    "if n%2!=0:\n",
    "    print('Weird')\n",
    "elif n%2==0 and 2<n<5:\n",
    "    print(\"Not Weird\")\n",
    "elif n%2==0 and 6<n<21:\n",
    "    print(\"Weird\")\n",
    "elif n%2==0 and n>21:\n",
    "    print(\"Not Weird\")\n",
    "    "
   ]
  },
  {
   "cell_type": "markdown",
   "id": "f0cae296",
   "metadata": {},
   "source": [
    "<center> <h3> Basic Data Types (all total --> 6 )</h3>"
   ]
  },
  {
   "cell_type": "markdown",
   "id": "2f58bb7d",
   "metadata": {},
   "source": [
    "#### List Comprehensions"
   ]
  },
  {
   "cell_type": "code",
   "execution_count": null,
   "id": "8fc97c91",
   "metadata": {},
   "outputs": [],
   "source": [
    "if __name__ == '__main__':\n",
    "    x = int(input())\n",
    "    y = int(input())\n",
    "    z = int(input())\n",
    "    n = int(input())\n",
    "\n",
    "    Possible_Coordinates=[[i,j,k] for i in range(x+1) \n",
    "                                  for j in range(y+1) \n",
    "                                  for k in range(z+1)\n",
    "                                  if sum([i+j+k])!=n]\n",
    "    print(Possible_Coordinates)\n"
   ]
  },
  {
   "cell_type": "markdown",
   "id": "8bf3f2ae",
   "metadata": {},
   "source": [
    "#### Find the Runner-Up Score!  "
   ]
  },
  {
   "cell_type": "code",
   "execution_count": null,
   "id": "cc376115",
   "metadata": {},
   "outputs": [],
   "source": [
    "if __name__ == '__main__':\n",
    "    n = int(input())\n",
    "    arr = list(map(int, input().split()))\n",
    "    a=max(arr)\n",
    "    while max(arr)==a:\n",
    "        arr.remove(max(arr))\n",
    "    print(max(arr))    \n",
    "\n",
    "    \n"
   ]
  },
  {
   "cell_type": "markdown",
   "id": "9f5b4eaa",
   "metadata": {},
   "source": [
    "#### Nested Lists"
   ]
  },
  {
   "cell_type": "code",
   "execution_count": null,
   "id": "b36c0081",
   "metadata": {},
   "outputs": [],
   "source": [
    "if __name__ == '__main__':\n",
    "    #lets define the empty dictionary so as to the student data\n",
    "    sData ={}\n",
    "    for _ in range(int(input())):\n",
    "        name = input()\n",
    "        score = float(input())\n",
    "        if score in sData:\n",
    "            sData[score].append(name)\n",
    "        else:\n",
    "            sData[score] = [name]\n",
    "    scores = sorted(set(sData.keys()))\n",
    "    second_lowest_score = scores[1] if len(scores) >1 else scores[0]\n",
    "    lowest_score_student_names = sData[second_lowest_score]\n",
    "    lowest_score_student_names.sort()\n",
    "    for s in lowest_score_student_names:\n",
    "        print(s)\n",
    "    \n",
    "        \n"
   ]
  },
  {
   "cell_type": "markdown",
   "id": "7f90b8d8",
   "metadata": {},
   "source": [
    "#### Finding the percentage"
   ]
  },
  {
   "cell_type": "code",
   "execution_count": null,
   "id": "fe733b99",
   "metadata": {},
   "outputs": [],
   "source": [
    "if __name__ == '__main__':\n",
    "    n = int(input())\n",
    "    student_marks = {}\n",
    "    for _ in range(n):\n",
    "        name, *line = input().split()\n",
    "        scores = list(map(float, line))\n",
    "        student_marks[name] = scores\n",
    "    query_name = input()\n",
    "    \n",
    "    # Function to calculate the average marks for a student\n",
    "    def avg_marks(student_marks, query_name):\n",
    "        if query_name in student_marks:\n",
    "            marks = student_marks[query_name]\n",
    "            avg = sum(marks) / len(marks)\n",
    "            return avg\n",
    "        else:\n",
    "            return 0.0\n",
    "    \n",
    "# Calculate the average marks for the specified student\n",
    "average_marks = avg_marks(student_marks, query_name)\n",
    "\n",
    "# Print the average marks with 2 decimal places\n",
    "print(f\"{average_marks:.2f}\")\n",
    "    \n"
   ]
  },
  {
   "cell_type": "markdown",
   "id": "cef06b9d",
   "metadata": {},
   "source": [
    "#### Lists"
   ]
  },
  {
   "cell_type": "code",
   "execution_count": null,
   "id": "88da5c35",
   "metadata": {},
   "outputs": [],
   "source": [
    "if __name__ == '__main__':\n",
    "    N = int(input())\n",
    "    my_list = []\n",
    "for _ in range(N):\n",
    "    command = input().split()\n",
    "    action = command[0]\n",
    "\n",
    "    if action == \"insert\":\n",
    "        my_list.insert(int(command[1]), int(command[2]))\n",
    "    elif action == \"print\":\n",
    "        print(my_list)\n",
    "    elif action == \"remove\":\n",
    "        my_list.remove(int(command[1]))\n",
    "    elif action == \"append\":\n",
    "        my_list.append(int(command[1]))\n",
    "    elif action == \"sort\":\n",
    "        my_list.sort()\n",
    "    elif action == \"pop\":\n",
    "        my_list.pop()\n",
    "    elif action == \"reverse\":\n",
    "        my_list.reverse()\n"
   ]
  },
  {
   "cell_type": "markdown",
   "id": "b1aa6a9b",
   "metadata": {},
   "source": [
    "#### Tuple"
   ]
  },
  {
   "cell_type": "code",
   "execution_count": null,
   "id": "4956a12f",
   "metadata": {},
   "outputs": [],
   "source": [
    "if __name__ == '__main__':\n",
    "    _ = int(input())\n",
    "    print(hash(tuple(map(int, input().split()))))\n",
    "    \n"
   ]
  },
  {
   "cell_type": "markdown",
   "id": "00987cd2",
   "metadata": {},
   "source": [
    "<center> <h3>Strings (all – total: 14) </h3>"
   ]
  },
  {
   "cell_type": "markdown",
   "id": "9da61f2b",
   "metadata": {},
   "source": [
    "#### sWAP cASE"
   ]
  },
  {
   "cell_type": "code",
   "execution_count": null,
   "id": "d80c3c3b",
   "metadata": {},
   "outputs": [],
   "source": [
    "def swap_case(s):\n",
    "    swapped_string = ''.join([char.lower() if char.isupper() else char.upper() for char in s])\n",
    "    return swapped_string\n",
    "\n"
   ]
  },
  {
   "cell_type": "markdown",
   "id": "b02db637",
   "metadata": {},
   "source": [
    "#### String Split and Join"
   ]
  },
  {
   "cell_type": "code",
   "execution_count": null,
   "id": "2d2cd6a8",
   "metadata": {},
   "outputs": [],
   "source": [
    "def split_and_join(line):\n",
    "    # write your code here\n",
    "    words = line.split(\" \")\n",
    "    result = \"-\".join(words)\n",
    "    \n",
    "    return result\n",
    "\n"
   ]
  },
  {
   "cell_type": "markdown",
   "id": "e82da799",
   "metadata": {},
   "source": [
    "#### What's Your Name?"
   ]
  },
  {
   "cell_type": "code",
   "execution_count": null,
   "id": "0023ed39",
   "metadata": {},
   "outputs": [],
   "source": [
    "#\n",
    "# Complete the 'print_full_name' function below.\n",
    "#\n",
    "# The function is expected to return a STRING.\n",
    "# The function accepts following parameters:\n",
    "#  1. STRING first\n",
    "#  2. STRING last\n",
    "#\n",
    "\n",
    "def print_full_name(first, last):\n",
    "    # Write your code here\n",
    "    full_name = f\"Hello {first} {last}! You just delved into python.\"\n",
    "    print(full_name)\n",
    "\n"
   ]
  },
  {
   "cell_type": "markdown",
   "id": "45e5838a",
   "metadata": {},
   "source": [
    "#### Mutations"
   ]
  },
  {
   "cell_type": "code",
   "execution_count": null,
   "id": "f54da974",
   "metadata": {},
   "outputs": [],
   "source": [
    "def mutate_string(string, position, character):\n",
    "    string_list = list(string)\n",
    "    string_list[position] = character\n",
    "    mod_string = ''.join(string_list)\n",
    "    return mod_string\n",
    "\n",
    "\n"
   ]
  },
  {
   "cell_type": "markdown",
   "id": "470064e1",
   "metadata": {},
   "source": [
    "#### Find a string"
   ]
  },
  {
   "cell_type": "code",
   "execution_count": null,
   "id": "9c827fc8",
   "metadata": {},
   "outputs": [],
   "source": [
    "def count_substring(string, sub_string):\n",
    "    count = 0\n",
    "    length = len(sub_string)\n",
    "\n",
    "    for i in range(len(string) - length + 1):\n",
    "        if string[i:i+length] == sub_string:\n",
    "            count += 1\n",
    "    return count\n",
    "\n"
   ]
  },
  {
   "cell_type": "markdown",
   "id": "112a401e",
   "metadata": {},
   "source": [
    "#### String Validators"
   ]
  },
  {
   "cell_type": "code",
   "execution_count": null,
   "id": "9da5c016",
   "metadata": {},
   "outputs": [],
   "source": [
    "if __name__ == '__main__':\n",
    "    s = input()\n",
    "\n",
    "def check_characters(s):\n",
    "    is_alphanumeric = any(c.isalnum() for c in s)\n",
    "    is_alpha = any(c.isalpha() for c in s)\n",
    "    is_digit = any(c.isdigit() for c in s)\n",
    "    is_lower = any(c.islower() for c in s)\n",
    "    is_upper = any(c.isupper() for c in s)\n",
    "    \n",
    "    return is_alphanumeric, is_alpha, is_digit, is_lower, is_upper\n",
    "\n",
    "alphanumeric, alpha, digit, lower, upper = check_characters(s)\n",
    "\n",
    "# Print the results in the specified format\n",
    "print(alphanumeric)\n",
    "print(alpha)\n",
    "print(digit)\n",
    "print(lower)\n",
    "print(upper)\n"
   ]
  },
  {
   "cell_type": "markdown",
   "id": "192c84a9",
   "metadata": {},
   "source": [
    "#### Text Alignment"
   ]
  },
  {
   "cell_type": "code",
   "execution_count": null,
   "id": "a85d160a",
   "metadata": {},
   "outputs": [],
   "source": [
    "#Replace all ______ with rjust, ljust or center. \n",
    "\n",
    "thickness = int(input()) #This must be an odd number\n",
    "c = 'H'\n",
    "\n",
    "#Top Cone\n",
    "for i in range(thickness):\n",
    "    print((c * i).rjust(thickness - 1) + c + (c * i).ljust(thickness - 1))\n",
    "\n",
    "#Top Pillars\n",
    "for i in range(thickness+1):\n",
    "    print((c * thickness).center(thickness * 2) + (c * thickness).center(thickness * 6))\n",
    "\n",
    "#Middle Belt\n",
    "for i in range((thickness+1)//2):\n",
    "    print((c * thickness * 5).center(thickness * 6))\n",
    "\n",
    "#Bottom Pillars\n",
    "for i in range(thickness+1):\n",
    "    print((c * thickness).center(thickness * 2) + (c * thickness).center(thickness * 6))\n",
    "\n",
    "#Bottom Cone\n",
    "for i in range(thickness):\n",
    "    print(((c * (thickness - i - 1)).rjust(thickness) + c + (c * (thickness - i - 1)).ljust(thickness)).rjust(thickness * 6))\n"
   ]
  },
  {
   "cell_type": "markdown",
   "id": "8060ed21",
   "metadata": {},
   "source": [
    "#### Text Wrap"
   ]
  },
  {
   "cell_type": "code",
   "execution_count": null,
   "id": "33343142",
   "metadata": {},
   "outputs": [],
   "source": [
    "def wrap(string, max_width):\n",
    "    wrapped_text = textwrap.fill(string, width=max_width)\n",
    "    return wrapped_text\n",
    "\n",
    "\n"
   ]
  },
  {
   "cell_type": "markdown",
   "id": "69f23e12",
   "metadata": {},
   "source": [
    "#### Designer Door Mat"
   ]
  },
  {
   "cell_type": "code",
   "execution_count": null,
   "id": "6a04db31",
   "metadata": {},
   "outputs": [],
   "source": [
    "# Enter your code here. Read input from STDIN. Print output to STDOUT\n",
    "\n",
    "def create_door_mat(N, M):\n",
    "    for i in range(1, N, 2):\n",
    "        pattern = \".|.\" * i\n",
    "        print(pattern.center(M, '-'))\n",
    "\n",
    "    print(\"WELCOME\".center(M, '-'))\n",
    "\n",
    "    for i in range(N - 2, 0, -2):\n",
    "        pattern = \".|.\" * i\n",
    "        print(pattern.center(M, '-'))\n",
    "\n",
    "N, M = map(int, input().split())\n",
    "\n",
    "create_door_mat(N, M)\n"
   ]
  },
  {
   "cell_type": "markdown",
   "id": "f626b1d5",
   "metadata": {},
   "source": [
    "#### String Formatting"
   ]
  },
  {
   "cell_type": "code",
   "execution_count": null,
   "id": "5030a5fe",
   "metadata": {},
   "outputs": [],
   "source": [
    "def print_formatted(number):\n",
    "    width = len(bin(n)[2:])\n",
    "\n",
    "    for i in range(1, n + 1):\n",
    "        decimal_str = str(i).rjust(width)\n",
    "        octal_str = oct(i)[2:].rjust(width)\n",
    "        hexadecimal_str = (hex(i)[2:]).upper().rjust(width)\n",
    "        binary_str = bin(i)[2:].rjust(width)\n",
    "\n",
    "        print(f\"{decimal_str} {octal_str} {hexadecimal_str} {binary_str}\")\n",
    "  \n",
    "\n"
   ]
  },
  {
   "cell_type": "markdown",
   "id": "44a00293",
   "metadata": {},
   "source": [
    "#### Alphabet Rangoli"
   ]
  },
  {
   "cell_type": "code",
   "execution_count": null,
   "id": "38926444",
   "metadata": {},
   "outputs": [],
   "source": [
    "def print_rangoli(size):\n",
    "    # your code goes here\n",
    "    import string\n",
    "    alphabet = string.ascii_lowercase\n",
    "\n",
    "    width = 4 * size - 3\n",
    "\n",
    "    for i in range(size - 1, 0, -1):\n",
    "        row = '-'.join(alphabet[size - 1:i:-1] + alphabet[i:size])\n",
    "        print(row.center(width, '-'))\n",
    "\n",
    "    for i in range(0, size):\n",
    "        row = '-'.join(alphabet[size - 1:i:-1] + alphabet[i:size])\n",
    "        print(row.center(width, '-'))\n",
    "\n",
    "\n"
   ]
  },
  {
   "cell_type": "markdown",
   "id": "174dcb85",
   "metadata": {},
   "source": [
    "#### Capitalize!"
   ]
  },
  {
   "cell_type": "code",
   "execution_count": null,
   "id": "63945102",
   "metadata": {},
   "outputs": [],
   "source": [
    "# Complete the solve function below.\n",
    "def solve(s):\n",
    "    return s.title()\n",
    "\n",
    "\n"
   ]
  },
  {
   "cell_type": "markdown",
   "id": "88e63d5d",
   "metadata": {},
   "source": [
    "#### The Minion Game"
   ]
  },
  {
   "cell_type": "code",
   "execution_count": null,
   "id": "47ea570d",
   "metadata": {},
   "outputs": [],
   "source": [
    "def minion_game(string):\n",
    "    # your code goes here\n",
    "    vowels = \"AEIOU\"\n",
    "    stuart_score = 0\n",
    "    kevin_score = 0\n",
    "\n",
    "    for i in range(len(string)):\n",
    "        if string[i] in vowels:\n",
    "            kevin_score += len(string) - i\n",
    "        else:\n",
    "            stuart_score += len(string) - i\n",
    "\n",
    "    if stuart_score > kevin_score:\n",
    "        print(\"Stuart\", stuart_score)\n",
    "    elif kevin_score > stuart_score:\n",
    "        print(\"Kevin\", kevin_score)\n",
    "    else:\n",
    "        print(\"Draw\")\n",
    "\n"
   ]
  },
  {
   "cell_type": "markdown",
   "id": "31d2628d",
   "metadata": {},
   "source": [
    "#### Merge the Tools!"
   ]
  },
  {
   "cell_type": "code",
   "execution_count": null,
   "id": "af27e022",
   "metadata": {},
   "outputs": [],
   "source": [
    "def merge_the_tools(string, k):\n",
    "    # your code goes here\n",
    "    for i in range(0, len(string), k):\n",
    "        sub_str = string[i:i + k]\n",
    "        unique_sub_str = \"\"\n",
    "\n",
    "        for char in sub_str:\n",
    "            if char not in unique_sub_str:\n",
    "                unique_sub_str += char\n",
    "\n",
    "        print(unique_sub_str)\n",
    "\n"
   ]
  },
  {
   "cell_type": "markdown",
   "id": "ef92dcec",
   "metadata": {},
   "source": [
    "<center> <h3> Sets (all – total: 13)</h3>"
   ]
  },
  {
   "cell_type": "markdown",
   "id": "b90f9513",
   "metadata": {},
   "source": [
    "#### Introduction to Sets"
   ]
  },
  {
   "cell_type": "code",
   "execution_count": null,
   "id": "1eb538be",
   "metadata": {},
   "outputs": [],
   "source": [
    "def average(array):\n",
    "    # your code goes here\n",
    "    distinct_heights = set(arr)  # Create a set to store distinct heights\n",
    "    total_distinct_heights = len(distinct_heights)\n",
    "    sum_distinct_heights = sum(distinct_heights)\n",
    "    average_value = sum_distinct_heights / total_distinct_heights\n",
    "    return round(average_value, 3)  # Round to 3 decimal places\n",
    "\n"
   ]
  },
  {
   "cell_type": "markdown",
   "id": "97de5fb4",
   "metadata": {},
   "source": [
    "#### No Idea!"
   ]
  },
  {
   "cell_type": "code",
   "execution_count": null,
   "id": "3105c05b",
   "metadata": {},
   "outputs": [],
   "source": [
    "# Enter your code here. Read input from STDIN. Print output to STDOUT\n",
    "\n",
    "n, m = map(int, input().split())\n",
    "array = list(map(int, input().split()))\n",
    "set_A = set(map(int, input().split()))\n",
    "set_B = set(map(int, input().split()))\n",
    "\n",
    "\n",
    "happiness = 0\n",
    "\n",
    "for element in array:\n",
    "    if element in set_A:\n",
    "        happiness += 1\n",
    "    elif element in set_B:\n",
    "        happiness -= 1\n",
    "\n",
    "# Output the total happiness\n",
    "print(happiness)\n"
   ]
  },
  {
   "cell_type": "markdown",
   "id": "38a03ab6",
   "metadata": {},
   "source": [
    "#### Symmetric Difference"
   ]
  },
  {
   "cell_type": "code",
   "execution_count": null,
   "id": "842d5146",
   "metadata": {},
   "outputs": [],
   "source": [
    "# Enter your code here. Read input from STDIN. Print output to STDOUT\n",
    "\n",
    "M = int(input())\n",
    "set_M = set(map(int, input().split()))\n",
    "\n",
    "N = int(input())\n",
    "set_N = set(map(int, input().split()))\n",
    "\n",
    "symmetric_diff = sorted(set_M.symmetric_difference(set_N))\n",
    "\n",
    "for element in symmetric_diff:\n",
    "    print(element)\n"
   ]
  },
  {
   "cell_type": "markdown",
   "id": "a2909526",
   "metadata": {},
   "source": [
    "#### Set .add() "
   ]
  },
  {
   "cell_type": "code",
   "execution_count": null,
   "id": "04195241",
   "metadata": {},
   "outputs": [],
   "source": [
    "# Enter your code here. Read input from STDIN. Print output to STDOUT\n",
    "\n",
    "\n",
    "N = int(input())\n",
    "distinct_stamps = set()\n",
    "for _ in range(N):\n",
    "    stamp = input()\n",
    "    distinct_stamps.add(stamp)\n",
    "\n",
    "total_distinct_stamps = len(distinct_stamps)\n",
    "\n",
    "\n",
    "print(total_distinct_stamps)\n"
   ]
  },
  {
   "cell_type": "markdown",
   "id": "2c116856",
   "metadata": {},
   "source": [
    "#### Set .discard(), .remove() & .pop()"
   ]
  },
  {
   "cell_type": "code",
   "execution_count": null,
   "id": "4287b444",
   "metadata": {},
   "outputs": [],
   "source": [
    "n = int(input())\n",
    "s = set(map(int, input().split()))\n",
    "N = int(input())\n",
    "\n",
    "\n",
    "for _ in range(N):\n",
    "    command = input().split()\n",
    "    if command[0] == \"pop\":\n",
    "        if s:\n",
    "            s.pop()\n",
    "    elif command[0] == \"remove\":\n",
    "        element = int(command[1])\n",
    "        if element in s:\n",
    "            s.remove(element)\n",
    "    elif command[0] == \"discard\":\n",
    "        element = int(command[1])\n",
    "        s.discard(element)\n",
    "\n",
    "# Calculate and print the sum of the elements in the set\n",
    "print(sum(s))\n"
   ]
  },
  {
   "cell_type": "markdown",
   "id": "ea2cbedb",
   "metadata": {},
   "source": [
    "#### Set .union() Operation"
   ]
  },
  {
   "cell_type": "code",
   "execution_count": null,
   "id": "41116e63",
   "metadata": {},
   "outputs": [],
   "source": [
    "# Enter your code here. Read input from STDIN. Print output to STDOUT\n",
    "\n",
    "\n",
    "english_subscribers_number = int(input())\n",
    "english_subscribers = set(map(int, input().split()))\n",
    "french_subscribers_number = int(input())\n",
    "french_subscribers = set(map(int, input().split()))\n",
    "total_subscribers = len(english_subscribers.union(french_subscribers))\n",
    "print(total_subscribers)\n"
   ]
  },
  {
   "cell_type": "markdown",
   "id": "43d244e4",
   "metadata": {},
   "source": [
    "#### Set .intersection() Operation"
   ]
  },
  {
   "cell_type": "code",
   "execution_count": null,
   "id": "96ccc5b0",
   "metadata": {},
   "outputs": [],
   "source": [
    "# Enter your code here. Read input from STDIN. Print output to STDOUT\n",
    "\n",
    "english_subscribers_number = int(input())\n",
    "english_subscribers = set(map(int, input().split()))\n",
    "french_subscribers_number = int(input())\n",
    "french_subscribers = set(map(int, input().split()))\n",
    "total_students_subscribed_to_both = len(english_subscribers.intersection(french_subscribers))\n",
    "\n",
    "print(total_students_subscribed_to_both)\n"
   ]
  },
  {
   "cell_type": "markdown",
   "id": "205a05a4",
   "metadata": {},
   "source": [
    "#### Set .difference() Operation"
   ]
  },
  {
   "cell_type": "code",
   "execution_count": null,
   "id": "e5870dad",
   "metadata": {},
   "outputs": [],
   "source": [
    "# Enter your code here. Read input from STDIN. Print output to STDOUT\n",
    "\n",
    "english_subscribers_number = int(input())\n",
    "\n",
    "english_subscribers = set(map(int, input().split()))\n",
    "\n",
    "french_subscribers_number = int(input())\n",
    "\n",
    "french_subscribers = set(map(int, input().split()))\n",
    "\n",
    "only_english_subscribers = english_subscribers.difference(french_subscribers)\n",
    "\n",
    "print(len(only_english_subscribers))\n"
   ]
  },
  {
   "cell_type": "markdown",
   "id": "5b45b123",
   "metadata": {},
   "source": [
    "#### Set .symmetric_difference() Operation"
   ]
  },
  {
   "cell_type": "code",
   "execution_count": null,
   "id": "a0bcf553",
   "metadata": {},
   "outputs": [],
   "source": [
    "# Enter your code here. Read input from STDIN. Print output to STDOUT\n",
    "\n",
    "num_english_subscribers = int(input())\n",
    "english_subscribers = set(map(int, input().split()))\n",
    "\n",
    "num_french_subscribers = int(input())\n",
    "french_subscribers = set(map(int, input().split()))\n",
    "\n",
    "either_english_or_french_but_not_both = (english_subscribers.symmetric_difference(french_subscribers))\n",
    "\n",
    "print(len(either_english_or_french_but_not_both))\n"
   ]
  },
  {
   "cell_type": "markdown",
   "id": "fa22d6e7",
   "metadata": {},
   "source": [
    "#### Set Mutations"
   ]
  },
  {
   "cell_type": "code",
   "execution_count": null,
   "id": "2f506b0a",
   "metadata": {},
   "outputs": [],
   "source": [
    "# Enter your code here. Read input from STDIN. Print output to STDOUT\n",
    "\n",
    "# Read the number of elements in set A\n",
    "n_elements_a = int(input())\n",
    "\n",
    "# Read the elements of set A and convert them into a set\n",
    "set_a = set(map(int, input().split()))\n",
    "\n",
    "# Read the number of other sets\n",
    "n_other_sets = int(input())\n",
    "\n",
    "# Process mutation operations on set A\n",
    "for _ in range(n_other_sets):\n",
    "    operation_info = input().split()\n",
    "    operation_name = operation_info[0]\n",
    "    length_other_set = int(operation_info[1])\n",
    "    other_set = set(map(int, input().split()))\n",
    "\n",
    "    if operation_name == \"intersection_update\":\n",
    "        set_a.intersection_update(other_set)\n",
    "    elif operation_name == \"update\":\n",
    "        set_a.update(other_set)\n",
    "    elif operation_name == \"symmetric_difference_update\":\n",
    "        set_a.symmetric_difference_update(other_set)\n",
    "    elif operation_name == \"difference_update\":\n",
    "        set_a.difference_update(other_set)\n",
    "\n",
    "# Calculate and print the sum of elements in set A\n",
    "sum_elements_a = sum(set_a)\n",
    "print(sum_elements_a)\n"
   ]
  },
  {
   "cell_type": "markdown",
   "id": "cf756c84",
   "metadata": {},
   "source": [
    "#### The Captain's Room "
   ]
  },
  {
   "cell_type": "code",
   "execution_count": null,
   "id": "b707745c",
   "metadata": {},
   "outputs": [],
   "source": [
    "# Enter your code here. Read input from STDIN. Print output to STDOUT\n",
    "\n",
    "K = int(input())\n",
    "room_numbers = list(map(int, input().split()))\n",
    "room_set = set()\n",
    "captain_set = set()\n",
    "\n",
    "for room in room_numbers:\n",
    "    if room in room_set:\n",
    "        captain_set.discard(room)\n",
    "    else:\n",
    "        room_set.add(room)\n",
    "        captain_set.add(room)\n",
    "\n",
    "print(captain_set.pop())\n",
    "\n",
    "\n"
   ]
  },
  {
   "cell_type": "markdown",
   "id": "753562a0",
   "metadata": {},
   "source": [
    "#### Check Subset"
   ]
  },
  {
   "cell_type": "code",
   "execution_count": null,
   "id": "d486a69b",
   "metadata": {},
   "outputs": [],
   "source": [
    "# Enter your code here. Read input from STDIN. Print output to STDOUT\n",
    "\n",
    "T = int(input())\n",
    "\n",
    "for _ in range(T):\n",
    "    n_A = int(input())\n",
    "    set_A = set(map(int, input().split()))\n",
    "    n_B = int(input())\n",
    "    set_B = set(map(int, input().split()))\n",
    "\n",
    "    # Check if set A is a subset of set B\n",
    "    is_subset = set_A.issubset(set_B)\n",
    "\n",
    "    # Print the result for the current test case\n",
    "    print(is_subset)\n"
   ]
  },
  {
   "cell_type": "markdown",
   "id": "afb791be",
   "metadata": {},
   "source": [
    "#### Check Strict Superset"
   ]
  },
  {
   "cell_type": "code",
   "execution_count": null,
   "id": "dccb0340",
   "metadata": {},
   "outputs": [],
   "source": [
    "# Enter your code here. Read input from STDIN. Print output to STDOUT\n",
    "\n",
    "set_A = set(map(int, input().split()))\n",
    "n = int(input())\n",
    "is_strict_superset = True\n",
    "for _ in range(n):\n",
    "    other_set = set(map(int, input().split()))\n",
    "    \n",
    "    \n",
    "    if not set_A.issuperset(other_set) or set_A == other_set:\n",
    "        is_strict_superset = False\n",
    "        break\n",
    "\n",
    "print(is_strict_superset)\n"
   ]
  },
  {
   "cell_type": "markdown",
   "id": "6e2722f9",
   "metadata": {},
   "source": [
    "<center><h3>Collections (all – total: 8)</h3>"
   ]
  },
  {
   "cell_type": "markdown",
   "id": "ee9b12e8",
   "metadata": {},
   "source": [
    "#### collections.Counter()"
   ]
  },
  {
   "cell_type": "code",
   "execution_count": null,
   "id": "271616ff",
   "metadata": {},
   "outputs": [],
   "source": [
    "# Enter your code here. Read input from STDIN. Print output to STDOUT\n",
    "\n",
    "def calc_earnings(shoe_sizes, customer_requests):\n",
    "    earnings = 0\n",
    "    inventory = dict()\n",
    "\n",
    "    for size in shoe_sizes:\n",
    "        if size in inventory:\n",
    "            inventory[size] += 1\n",
    "        else:\n",
    "            inventory[size] = 1\n",
    "\n",
    "    for request in customer_requests:\n",
    "        size, price = request\n",
    "        if size in inventory and inventory[size] > 0:\n",
    "            earnings += price\n",
    "            inventory[size] -= 1\n",
    "\n",
    "    return earnings\n",
    "\n",
    "if __name__ == \"__main__\":\n",
    "    num_shoes = int(input())\n",
    "    shoe_sizes = list(map(int, input().split()))\n",
    "    num_customers = int(input())\n",
    "\n",
    "    customer_requests = []\n",
    "    for _ in range(num_customers):\n",
    "        size, price = map(int, input().split())\n",
    "        customer_requests.append((size, price))\n",
    "\n",
    "    total_earnings = calc_earnings(shoe_sizes, customer_requests)\n",
    "    print(total_earnings)\n"
   ]
  },
  {
   "cell_type": "markdown",
   "id": "39433b27",
   "metadata": {},
   "source": [
    "#### DefaultDict Tutorial"
   ]
  },
  {
   "cell_type": "code",
   "execution_count": null,
   "id": "0813526d",
   "metadata": {},
   "outputs": [],
   "source": [
    "# Enter your code here. Read input from STDIN. Print output to STDOUT\n",
    "\n",
    "from collections import defaultdict\n",
    "\n",
    "n, m = map(int, input().split())\n",
    "\n",
    "A = defaultdict(list)\n",
    "\n",
    "for i in range(n):\n",
    "    word = input()\n",
    "    A[word].append(i + 1)\n",
    "\n",
    "for i in range(m):\n",
    "    word = input()\n",
    "    if A[word]:\n",
    "        print(' '.join(map(str, A[word])))\n",
    "    else:\n",
    "        print(-1)\n",
    "\n"
   ]
  },
  {
   "cell_type": "markdown",
   "id": "d6426713",
   "metadata": {},
   "source": [
    "#### Collections.namedtuple()"
   ]
  },
  {
   "cell_type": "code",
   "execution_count": null,
   "id": "326bfebe",
   "metadata": {},
   "outputs": [],
   "source": [
    "# Enter your code here. Read input from STDIN. Print output to STDOUT\n",
    "\n",
    "\n",
    "def calculate_average_marks(data):\n",
    "    total_marks = 0\n",
    "    total_students = len(data)\n",
    "    \n",
    "    for student in data:\n",
    "        total_marks += float(student[\"MARKS\"])\n",
    "    \n",
    "    average_marks = total_marks / total_students\n",
    "    return average_marks\n",
    "\n",
    "if __name__ == \"__main__\":\n",
    "    N = int(input())\n",
    "    columns = input().split()\n",
    "    data = []\n",
    "\n",
    "    for _ in range(N):\n",
    "        student_info = input().split()\n",
    "        student_data = dict(zip(columns, student_info))\n",
    "        data.append(student_data)\n",
    "\n",
    "    average_marks = calculate_average_marks(data)\n",
    "    print(\"{:.2f}\".format(average_marks))\n"
   ]
  },
  {
   "cell_type": "markdown",
   "id": "9a87a369",
   "metadata": {},
   "source": [
    "#### Collections.OrderedDict()"
   ]
  },
  {
   "cell_type": "code",
   "execution_count": null,
   "id": "c9a03269",
   "metadata": {},
   "outputs": [],
   "source": [
    "# Enter your code here. Read input from STDIN. Print output to STDOUT\n",
    "\n",
    "from collections import OrderedDict\n",
    "\n",
    "def calculate_net_price(items):\n",
    "    net_prices = OrderedDict()\n",
    "\n",
    "    for item in items:\n",
    "        item_name, item_price = item.rsplit(' ', 1)\n",
    "        item_price = int(item_price)\n",
    "        if item_name in net_prices:\n",
    "            net_prices[item_name] += item_price\n",
    "        else:\n",
    "            net_prices[item_name] = item_price\n",
    "\n",
    "    for item_name, net_price in net_prices.items():\n",
    "        print(f\"{item_name} {net_price}\")\n",
    "\n",
    "if __name__ == \"__main__\":\n",
    "    N = int(input())\n",
    "    items = [input() for _ in range(N)]\n",
    "    calculate_net_price(items)\n"
   ]
  },
  {
   "cell_type": "markdown",
   "id": "c72d22bb",
   "metadata": {},
   "source": [
    "#### Word Order"
   ]
  },
  {
   "cell_type": "code",
   "execution_count": null,
   "id": "afcf495f",
   "metadata": {},
   "outputs": [],
   "source": [
    "# Enter your code here. Read input from STDIN. Print output to STDOUT\n",
    "\n",
    "from collections import OrderedDict\n",
    "\n",
    "n = int(input())\n",
    "word_count = OrderedDict()\n",
    "\n",
    "for _ in range(n):\n",
    "    word = input().strip()\n",
    "    if word in word_count:\n",
    "        word_count[word] += 1\n",
    "    else:\n",
    "        word_count[word] = 1\n",
    "\n",
    "# Output the number of distinct words\n",
    "print(len(word_count))\n",
    "\n",
    "# Output the number of occurrences for each distinct word\n",
    "print(*word_count.values())\n"
   ]
  },
  {
   "cell_type": "markdown",
   "id": "5a1bb195",
   "metadata": {},
   "source": [
    "#### Collections.deque()"
   ]
  },
  {
   "cell_type": "code",
   "execution_count": null,
   "id": "df7493d3",
   "metadata": {},
   "outputs": [],
   "source": [
    "# Enter your code here. Read input from STDIN. Print output to STDOUT\n",
    "\n",
    "from collections import deque\n",
    "\n",
    "# Create an empty deque\n",
    "d = deque()\n",
    "\n",
    "# Input the number of operations\n",
    "N = int(input())\n",
    "\n",
    "# Process the operations\n",
    "for _ in range(N):\n",
    "    operation = input().split()\n",
    "    if operation[0] == \"append\":\n",
    "        d.append(int(operation[1]))\n",
    "    elif operation[0] == \"appendleft\":\n",
    "        d.appendleft(int(operation[1]))\n",
    "    elif operation[0] == \"pop\":\n",
    "        d.pop()\n",
    "    elif operation[0] == \"popleft\":\n",
    "        d.popleft()\n",
    "\n",
    "# Print the space-separated elements of the deque\n",
    "print(*d)\n"
   ]
  },
  {
   "cell_type": "markdown",
   "id": "da779ea6",
   "metadata": {},
   "source": [
    "#### Company Logo"
   ]
  },
  {
   "cell_type": "code",
   "execution_count": null,
   "id": "a31e7540",
   "metadata": {},
   "outputs": [],
   "source": [
    "#!/bin/python3\n",
    "\n",
    "import math\n",
    "import os\n",
    "import random\n",
    "import re\n",
    "import sys\n",
    "\n",
    "from collections import Counter\n",
    "def find_top_characters(s):\n",
    "    char_count = Counter(s)\n",
    "    sorted_char_count = sorted(char_count.items(), key=lambda x: (-x[1], x[0]))\n",
    "\n",
    "    for char, count in sorted_char_count[:3]:\n",
    "        print(char, count)\n",
    "\n",
    "if __name__ == '__main__':\n",
    "    s = input()\n",
    "    find_top_characters(s)\n"
   ]
  },
  {
   "cell_type": "markdown",
   "id": "215a0e37",
   "metadata": {},
   "source": [
    "#### Piling Up!"
   ]
  },
  {
   "cell_type": "code",
   "execution_count": null,
   "id": "98f89c6c",
   "metadata": {},
   "outputs": [],
   "source": [
    "# Enter your code here. Read input from STDIN. Print output to STDOUT\n",
    "\n",
    "def can_stack_cubes(test_cases):\n",
    "    results = []\n",
    "\n",
    "    for cubes in test_cases:\n",
    "        n, sides = cubes\n",
    "        left = 0\n",
    "        right = n - 1\n",
    "        prev_cube = float('inf')\n",
    "\n",
    "        while left <= right:\n",
    "            if sides[left] >= sides[right] and sides[left] <= prev_cube:\n",
    "                prev_cube = sides[left]\n",
    "                left += 1\n",
    "            elif sides[left] < sides[right] and sides[right] <= prev_cube:\n",
    "                prev_cube = sides[right]\n",
    "                right -= 1\n",
    "            else:\n",
    "                results.append(\"No\")\n",
    "                break\n",
    "        else:\n",
    "            results.append(\"Yes\")\n",
    "\n",
    "    return results\n",
    "\n",
    "if __name__ == \"__main__\":\n",
    "    T = int(input())\n",
    "    test_cases = []\n",
    "\n",
    "    for _ in range(T):\n",
    "        n = int(input())\n",
    "        sides = list(map(int, input().split()))\n",
    "        test_cases.append((n, sides))\n",
    "\n",
    "    results = can_stack_cubes(test_cases)\n",
    "\n",
    "    for result in results:\n",
    "        print(result)\n"
   ]
  },
  {
   "cell_type": "markdown",
   "id": "80fd5bdb",
   "metadata": {},
   "source": [
    "<center><h3>Date and Time (all – total: 2)</h3>"
   ]
  },
  {
   "cell_type": "markdown",
   "id": "1413d7a0",
   "metadata": {},
   "source": [
    "#### Calendar Module"
   ]
  },
  {
   "cell_type": "code",
   "execution_count": null,
   "id": "a2fd8b0c",
   "metadata": {},
   "outputs": [],
   "source": [
    "# Enter your code here. Read input from STDIN. Print output to STDOUT\n",
    "from datetime import datetime\n",
    "\n",
    "date_str = input()\n",
    "date = datetime.strptime(date_str, '%m %d %Y')\n",
    "day_of_week = date.strftime('%A').upper()\n",
    "print(day_of_week)\n"
   ]
  },
  {
   "cell_type": "markdown",
   "id": "7481faf3",
   "metadata": {},
   "source": [
    "#### Time Delta"
   ]
  },
  {
   "cell_type": "code",
   "execution_count": null,
   "id": "40f05f23",
   "metadata": {},
   "outputs": [],
   "source": [
    "#!/bin/python3\n",
    "import math\n",
    "import os\n",
    "import random\n",
    "import re\n",
    "import sys\n",
    "from datetime import datetime\n",
    "# Complete the time_delta function below.\n",
    "def time_delta(t1, t2):\n",
    "    format_string = \"%a %d %b %Y %H:%M:%S %z\" \n",
    "    dt1 = datetime.strptime(t1, format_string)\n",
    "    dt2 = datetime.strptime(t2, format_string) \n",
    "    diff = abs(dt1 - dt2)\n",
    "    return str(int(diff.total_seconds()))\n",
    "    \n",
    "\n",
    "if __name__ == '__main__':\n",
    "    fptr = open(os.environ['OUTPUT_PATH'], 'w')\n",
    "\n",
    "    t = int(input())\n",
    "\n",
    "    for t_itr in range(t):\n",
    "        t1 = input()\n",
    "\n",
    "        t2 = input()\n",
    "\n",
    "        delta = time_delta(t1, t2)\n",
    "\n",
    "        fptr.write(delta + '\\n')\n",
    "\n",
    "    fptr.close()\n"
   ]
  },
  {
   "cell_type": "markdown",
   "id": "7c3bbd51",
   "metadata": {},
   "source": [
    "<center><h3>Exceptions (only 1)</h3>"
   ]
  },
  {
   "cell_type": "markdown",
   "id": "7a9dd174",
   "metadata": {},
   "source": [
    "#### Exceptions"
   ]
  },
  {
   "cell_type": "code",
   "execution_count": null,
   "id": "22f3b214",
   "metadata": {},
   "outputs": [],
   "source": [
    "# Enter your code here. Read input from STDIN. Print output to STDOUT\n",
    "def perform_division(a, b):\n",
    "    try:\n",
    "        result = int(a) // int(b)\n",
    "        return result\n",
    "    except ZeroDivisionError as e:\n",
    "        return f'Error Code: {e}'\n",
    "    except ValueError as v:\n",
    "        return f'Error Code: {v}'\n",
    "\n",
    "T = int(input())\n",
    "for _ in range(T):\n",
    "    a, b = input().split()\n",
    "    print(perform_division(a, b))\n"
   ]
  },
  {
   "cell_type": "markdown",
   "id": "14cd9777",
   "metadata": {},
   "source": [
    "<center><h3>Built-ins (only 3 )</h3>"
   ]
  },
  {
   "cell_type": "markdown",
   "id": "aa018bb4",
   "metadata": {},
   "source": [
    "#### Zipped!"
   ]
  },
  {
   "cell_type": "code",
   "execution_count": null,
   "id": "b9226c82",
   "metadata": {},
   "outputs": [],
   "source": [
    "# Enter your code here. Read input from STDIN. Print output to STDOUT\n",
    "n, m = map(int, input().split())\n",
    "subject_scores = []\n",
    "for _ in range(m):\n",
    "    scores = list(map(float, input().split()))\n",
    "    subject_scores.append(scores)\n",
    "\n",
    "student_scores = list(zip(*subject_scores))\n",
    "average_scores = [sum(student) / len(student) for student in student_scores]\n",
    "\n",
    "for avg_score in average_scores:\n",
    "    print(avg_score)\n"
   ]
  },
  {
   "cell_type": "markdown",
   "id": "3254a444",
   "metadata": {},
   "source": [
    "#### Input()"
   ]
  },
  {
   "cell_type": "code",
   "execution_count": null,
   "id": "1e5a2741",
   "metadata": {},
   "outputs": [],
   "source": [
    "# Enter your code here. Read input from STDIN. Print output to STDOUT\n",
    "x, k = map(int, input().split())\n",
    "polynomial = input()\n",
    "polynomial = polynomial.replace('x', str(x))\n",
    "polynomial = polynomial.replace('k', str(k))\n",
    "result = eval(polynomial) == k\n",
    "print(result)\n"
   ]
  },
  {
   "cell_type": "markdown",
   "id": "c673f18b",
   "metadata": {},
   "source": [
    "#### python evaluation"
   ]
  },
  {
   "cell_type": "code",
   "execution_count": null,
   "id": "75e6baac",
   "metadata": {},
   "outputs": [],
   "source": [
    "# Enter your code here. Read input from STDIN. Print output to STDOUT\n",
    "\n",
    "expression = input()\n",
    "\n",
    "result = eval(expression)\n"
   ]
  },
  {
   "cell_type": "markdown",
   "id": "e1275bea",
   "metadata": {},
   "source": [
    "<center><h3>Python Functionals (only 1)</h3>"
   ]
  },
  {
   "cell_type": "markdown",
   "id": "83c94859",
   "metadata": {},
   "source": [
    "#### Map and Lambda Function"
   ]
  },
  {
   "cell_type": "code",
   "execution_count": null,
   "id": "eb8789e7",
   "metadata": {},
   "outputs": [],
   "source": [
    "cube = lambda x:x**3 # complete the lambda function \n",
    "\n",
    "def fibonacci(n):\n",
    "    # return a list of fibonacci numbers\n",
    "    fib = [0, 1]\n",
    "    for i in range(2, n):\n",
    "        fib.append(fib[i - 1] + fib[i - 2])\n",
    "    return fib\n",
    "\n"
   ]
  },
  {
   "cell_type": "markdown",
   "id": "fb46d523",
   "metadata": {},
   "source": [
    "<center><h3>Regex and Parsing challenges (all – total: 17)</h3>"
   ]
  },
  {
   "cell_type": "markdown",
   "id": "f1bc0ce0",
   "metadata": {},
   "source": [
    "#### Detectin Floating Point Number"
   ]
  },
  {
   "cell_type": "code",
   "execution_count": null,
   "id": "1521ae3c",
   "metadata": {},
   "outputs": [],
   "source": [
    "# Enter your code here. Read input from STDIN. Print output to STDOUT\n",
    "\n",
    "import re\n",
    "\n",
    "def is_float(s):\n",
    "    p = r'^[+-]?\\d*\\.\\d+$'\n",
    "    return bool(re.match(p, s))\n",
    "\n",
    "n = int(input())\n",
    "\n",
    "for _ in range(n):\n",
    "    s = input()\n",
    "    print(is_float(s))\n"
   ]
  },
  {
   "cell_type": "markdown",
   "id": "6be68df8",
   "metadata": {},
   "source": [
    "#### Re.split()"
   ]
  },
  {
   "cell_type": "code",
   "execution_count": null,
   "id": "cc021d7e",
   "metadata": {},
   "outputs": [],
   "source": [
    "regex_pattern = r\"[.,](?=\\d)\"\t# Do not delete 'r'.\n",
    "\n"
   ]
  },
  {
   "cell_type": "markdown",
   "id": "54786f99",
   "metadata": {},
   "source": [
    "#### Group(), Groups() & Groupdict()"
   ]
  },
  {
   "cell_type": "code",
   "execution_count": null,
   "id": "fdb3c8cc",
   "metadata": {},
   "outputs": [],
   "source": [
    "# Enter your code here. Read input from STDIN. Print output to STDOUT\n",
    "\n",
    "s = input()\n",
    "\n",
    "p = None\n",
    "\n",
    "for c in s:\n",
    "    if c == p:\n",
    "        print(c)\n",
    "        break\n",
    "    p = c\n",
    "else:\n",
    "    print(-1)\n"
   ]
  },
  {
   "cell_type": "markdown",
   "id": "773bc20d",
   "metadata": {},
   "source": [
    "#### Re.findall() & Re.finditer()"
   ]
  },
  {
   "cell_type": "code",
   "execution_count": null,
   "id": "e2b73cbb",
   "metadata": {},
   "outputs": [],
   "source": [
    "import re\n",
    "\n",
    "s = input()\n",
    "p = r'(?<=[qwrtypsdfghjklzxcvbnmQWRTYPSDFGHJKLZXCVBNM])[aeiouAEIOU]{2,}(?=[qwrtypsdfghjklzxcvbnmQWRTYPSDFGHJKLZXCVBNM])'\n",
    "m = re.findall(p, s)\n",
    "\n",
    "if m:\n",
    "    for x in m:\n",
    "        print(x)\n",
    "else:\n",
    "    print(-1)\n"
   ]
  },
  {
   "cell_type": "markdown",
   "id": "d9d11134",
   "metadata": {},
   "source": [
    "#### Re.start() & Re.end()"
   ]
  },
  {
   "cell_type": "code",
   "execution_count": null,
   "id": "b13b6884",
   "metadata": {},
   "outputs": [],
   "source": [
    "# Enter your code here. Read input from STDIN. Print output to STDOUT\n",
    "\n",
    "import re\n",
    "\n",
    "S = input()  # Read the input string S\n",
    "k = input()  # Read the input string k\n",
    "\n",
    "pattern = f'(?=({k}))'\n",
    "matches = list(re.finditer(pattern, S))\n",
    "\n",
    "if matches:\n",
    "    for match in matches:\n",
    "        start_index = match.start(1)\n",
    "        end_index = match.end(1) - 1\n",
    "        print(f'({start_index}, {end_index})')\n",
    "else:\n",
    "    print('(-1, -1)')\n",
    "\n"
   ]
  },
  {
   "cell_type": "markdown",
   "id": "d8c5306b",
   "metadata": {},
   "source": [
    "#### Regex Substitution"
   ]
  },
  {
   "cell_type": "code",
   "execution_count": null,
   "id": "cabb6844",
   "metadata": {},
   "outputs": [],
   "source": [
    "# Enter your code here. Read input from STDIN. Print output to STDOUT\n",
    "import re\n",
    "\n",
    "n = int(input())  # Read the number of lines\n",
    "\n",
    "for _ in range(n):\n",
    "    line = input()  # Read each line of text\n",
    "    modified_line = re.sub(r'(?<= )&&(?= )', 'and', line)\n",
    "    modified_line = re.sub(r'(?<= )\\|\\|(?= )', 'or', modified_line)\n",
    "    print(modified_line)\n"
   ]
  },
  {
   "cell_type": "markdown",
   "id": "bb5907f9",
   "metadata": {},
   "source": [
    "#### Validating Roman Numerals"
   ]
  },
  {
   "cell_type": "code",
   "execution_count": null,
   "id": "56f14da4",
   "metadata": {},
   "outputs": [],
   "source": [
    "regex_pattern = r\"^(M{0,3}(CM|CD|D?C{0,3})(XC|XL|L?X{0,3})(IX|IV|V?I{0,3}))$\"\t# Do not delete 'r'.\n",
    "\n"
   ]
  },
  {
   "cell_type": "markdown",
   "id": "fd440b27",
   "metadata": {},
   "source": [
    "#### Validating phone numbers"
   ]
  },
  {
   "cell_type": "code",
   "execution_count": null,
   "id": "6fed9e58",
   "metadata": {},
   "outputs": [],
   "source": [
    "# Enter your code here. Read input from STDIN. Print output to STDOUT\n",
    "\n",
    "import re\n",
    "\n",
    "n = int(input())  # Read the number of inputs\n",
    "\n",
    "for _ in range(n):\n",
    "    s = input()  # Read each string\n",
    "    if re.match(r'^[789]\\d{9}$', s):\n",
    "        print(\"YES\")\n",
    "    else:\n",
    "        print(\"NO\")\n"
   ]
  },
  {
   "cell_type": "markdown",
   "id": "3095573d",
   "metadata": {},
   "source": [
    "#### Validating and Parsing Email Addresses"
   ]
  },
  {
   "cell_type": "code",
   "execution_count": null,
   "id": "b186a718",
   "metadata": {},
   "outputs": [],
   "source": [
    "# Enter your code here. Read input from STDIN. Print output to STDOUT\n",
    "\n",
    "import re\n",
    "from email.utils import parseaddr, formataddr\n",
    "\n",
    "n = int(input())\n",
    "\n",
    "for _ in range(n):\n",
    "    name, email_address = parseaddr(input())\n",
    "    if re.match(r'^[a-zA-Z]([\\w\\.\\-])+@([a-zA-Z])+\\.([a-zA-Z]){1,3}$', email_address):\n",
    "        print(formataddr((name, email_address)))\n"
   ]
  },
  {
   "cell_type": "markdown",
   "id": "d963f2f3",
   "metadata": {},
   "source": [
    "#### Hex Color Code"
   ]
  },
  {
   "cell_type": "code",
   "execution_count": null,
   "id": "2e54adda",
   "metadata": {},
   "outputs": [],
   "source": [
    "# Enter your code here. Read input from STDIN. Print output to STDOUT\n",
    "\n",
    "import re\n",
    "\n",
    "pattern = r'#[0-9A-Fa-f]{6}(?=[;,)])|#[0-9A-Fa-f]{3}(?=[;,)])'\n",
    "\n",
    "for _ in range(int(input())):\n",
    "    line = input()\n",
    "    for match in (re.findall(pattern, line)):\n",
    "        if len(match[1:]) == 3 or len(match[1:]) == 6:\n",
    "            print(match)\n"
   ]
  },
  {
   "cell_type": "markdown",
   "id": "767b1316",
   "metadata": {},
   "source": [
    "#### Validating UID "
   ]
  },
  {
   "cell_type": "code",
   "execution_count": null,
   "id": "998341f2",
   "metadata": {},
   "outputs": [],
   "source": [
    "# Enter your code here. Read input from STDIN. Print output to STDOUT\n",
    "import re\n",
    "\n",
    "def is_valid_uid(uid):\n",
    "    # Check if the UID has 10 characters, no repeating characters, and contains only alphanumeric characters\n",
    "    if re.match(r'^(?!.*(.).*\\1)(?=(?:.*[A-Z]){2,})(?=(?:.*\\d){3,})[A-Za-z0-9]{10}$', uid):\n",
    "        return \"Valid\"\n",
    "    else:\n",
    "        return \"Invalid\"\n",
    "\n",
    "# Read the number of test cases\n",
    "n = int(input())\n",
    "\n",
    "# Process each test case\n",
    "for _ in range(n):\n",
    "    uid = input()\n",
    "    result = is_valid_uid(uid)\n",
    "    print(result)\n"
   ]
  },
  {
   "cell_type": "markdown",
   "id": "f7aca033",
   "metadata": {},
   "source": [
    "#### Validating Credit Card Numbers"
   ]
  },
  {
   "cell_type": "code",
   "execution_count": null,
   "id": "e184db25",
   "metadata": {},
   "outputs": [],
   "source": [
    "# Enter your code here. Read input from STDIN. Print output to STDOUT\n",
    "in1=int(input())\n",
    "import re\n",
    "for _ in range(in1):\n",
    "    in2=input()\n",
    "    regex='^([4|5|6][0-9]{3}-?)([0-9]{4}-?)([0-9]{4}-?)([0-9]{4})$'\n",
    "   \n",
    "    k=0\n",
    "    s=''\n",
    "    in3=in2\n",
    "    in3=in3.replace('-','')\n",
    "    for i,j in enumerate(in3):\n",
    "        if i>0:\n",
    "            #print(s,s[-1],j,k)\n",
    "            if s[-1]==j:\n",
    "                \n",
    "            \n",
    "                k=k+1\n",
    "                \n",
    "                if k==3:\n",
    "                    print(\"Invalid\")\n",
    "                    break\n",
    "            else:\n",
    "                k=0   \n",
    "            s=s+j\n",
    "        elif k==3 :\n",
    "            break\n",
    "        else:\n",
    "            s=s+j\n",
    "            \n",
    "    if re.match(regex,in2)==None and k!=3:\n",
    "                  print('Invalid')\n",
    "                \n",
    "    elif (re.match(regex,in2)!=None) and k!=3:\n",
    "              print('Valid')\n"
   ]
  },
  {
   "cell_type": "markdown",
   "id": "dd65d876",
   "metadata": {},
   "source": [
    "#### HTML Parser part 1"
   ]
  },
  {
   "cell_type": "code",
   "execution_count": null,
   "id": "9f3435fd",
   "metadata": {},
   "outputs": [],
   "source": [
    "# Enter your code here. Read input from STDIN. Print output to STDOUT\n",
    "\n",
    "from html.parser import HTMLParser\n",
    "\n",
    "class MyHTMLParser(HTMLParser):\n",
    "    def handle_starttag(self, tag, attrs):\n",
    "        print(f\"Start : {tag}\")\n",
    "        for attr in attrs:\n",
    "            print(f\"-> {attr[0]} > {attr[1]}\")\n",
    "    \n",
    "    def handle_endtag(self, tag):\n",
    "        print(f\"End   : {tag}\")\n",
    "    \n",
    "    def handle_startendtag(self, tag, attrs):\n",
    "        print(f\"Empty : {tag}\")\n",
    "        for attr in attrs:\n",
    "            print(f\"-> {attr[0]} > {attr[1]}\")\n",
    "\n",
    "n = int(input())  # Read the number of lines\n",
    "html_code = \"\\n\".join(input() for _ in range(n))\n",
    "\n",
    "parser = MyHTMLParser()\n",
    "parser.feed(html_code)\n"
   ]
  },
  {
   "cell_type": "markdown",
   "id": "09855f3f",
   "metadata": {},
   "source": [
    "#### HTML Parser part 2"
   ]
  },
  {
   "cell_type": "code",
   "execution_count": null,
   "id": "f84dc371",
   "metadata": {},
   "outputs": [],
   "source": [
    "from html.parser import HTMLParser\n",
    "\n",
    "class MyHTMLParser(HTMLParser):\n",
    "    def handle_comment(self, data):\n",
    "        if '\\n' in data:\n",
    "            print(\">>> Multi-line Comment\")\n",
    "            print(data)\n",
    "        else:\n",
    "            print(\">>> Single-line Comment\")\n",
    "            print(data)\n",
    "\n",
    "    def handle_data(self, data):\n",
    "        if data != '\\n':\n",
    "            print(\">>> Data\")\n",
    "            print(data)\n",
    "  \n",
    "  \n",
    "html = \"\"       \n",
    "for i in range(int(input())):\n",
    "    html += input().rstrip()\n",
    "    html += '\\n'\n",
    "    \n",
    "parser = MyHTMLParser()\n",
    "parser.feed(html)\n",
    "parser.close()\n"
   ]
  },
  {
   "cell_type": "markdown",
   "id": "71e824a1",
   "metadata": {},
   "source": [
    "#### Detect HTML Tags, Attributes and Attribute Values"
   ]
  },
  {
   "cell_type": "code",
   "execution_count": null,
   "id": "9c600f79",
   "metadata": {},
   "outputs": [],
   "source": [
    "# Enter your code here. Read input from STDIN. Print output to STDOUT\n",
    "from html.parser import HTMLParser\n",
    "\n",
    "class MyHTMLParser(HTMLParser):\n",
    "    def handle_starttag(self, tag, attrs):\n",
    "        print(tag)\n",
    "        for attr in attrs:\n",
    "            print(f\"-> {attr[0]} > {attr[1]}\")\n",
    "\n",
    "n = int(input())  \n",
    "html_code = \"\\n\".join(input() for _ in range(n))\n",
    "\n",
    "parser = MyHTMLParser()\n",
    "parser.feed(html_code)\n"
   ]
  },
  {
   "cell_type": "markdown",
   "id": "d3962e3c",
   "metadata": {},
   "source": [
    "#### Validating Postal Codes"
   ]
  },
  {
   "cell_type": "code",
   "execution_count": null,
   "id": "6f8838b9",
   "metadata": {},
   "outputs": [],
   "source": [
    "regex_integer_in_range = r\"^[1-9]([0-9]){5}$\"\t# Do not delete 'r'.\n",
    "regex_alternating_repetitive_digit_pair = r\"(\\d)(?=\\d\\1)\"\t# Do not delete 'r'.\n",
    "\n"
   ]
  },
  {
   "cell_type": "markdown",
   "id": "3078bfe3",
   "metadata": {},
   "source": [
    "#### Matrix Script"
   ]
  },
  {
   "cell_type": "code",
   "execution_count": null,
   "id": "101020e7",
   "metadata": {},
   "outputs": [],
   "source": [
    "#!/bin/python3\n",
    "\n",
    "import math\n",
    "import os\n",
    "import random\n",
    "import re\n",
    "import sys\n",
    "\n",
    "\n",
    "\n",
    "\n",
    "first_multiple_input = input().rstrip().split()\n",
    "\n",
    "n = int(first_multiple_input[0])\n",
    "\n",
    "m = int(first_multiple_input[1])\n",
    "\n",
    "matrix = []\n",
    "\n",
    "for _ in range(n):\n",
    "    matrix_item = input()\n",
    "    matrix.append(matrix_item)\n",
    "\n",
    "transposed_matrix = [''.join(matrix[i][j] for i in range(n)) for j in range(m)]\n",
    "\n",
    "# Concatenate characters while preserving symbols and spaces\n",
    "decoded_script = ''.join(column for column in transposed_matrix)\n",
    "\n",
    "# Use regular expression to remove extra spaces between alphanumeric characters\n",
    "decoded_script = re.sub(r'(?<=[A-Za-z0-9])[^A-Za-z0-9]+(?=[A-Za-z0-9])', ' ', decoded_script)\n",
    "\n",
    "# Print the decoded script\n",
    "print(decoded_script)\n"
   ]
  },
  {
   "cell_type": "markdown",
   "id": "e03b2b61",
   "metadata": {},
   "source": [
    "<Center> <h3> XML (all – total: 2)</h3>"
   ]
  },
  {
   "cell_type": "markdown",
   "id": "095eb99a",
   "metadata": {},
   "source": [
    "#### XML 1 - find the score"
   ]
  },
  {
   "cell_type": "code",
   "execution_count": null,
   "id": "98134da1",
   "metadata": {},
   "outputs": [],
   "source": [
    "def get_attr_number(node):\n",
    "    # your code goes here\n",
    "    score = len(node.attrib)\n",
    "    for child in node:\n",
    "        score += get_attr_number(child)\n",
    "    return score\n",
    "    \n",
    "\n"
   ]
  },
  {
   "cell_type": "markdown",
   "id": "1123757e",
   "metadata": {},
   "source": [
    "#### XML2 - Find the Maximum Depth"
   ]
  },
  {
   "cell_type": "code",
   "execution_count": null,
   "id": "4131833c",
   "metadata": {},
   "outputs": [],
   "source": [
    "\n",
    "\n",
    "maxdepth = 0\n",
    "def depth(elem, level):\n",
    "    global maxdepth\n",
    "    # your code goes here\n",
    "    if level == -1:\n",
    "        level = 0\n",
    "    else:\n",
    "        level += 1\n",
    "    maxdepth = max(maxdepth, level)\n",
    "    for child in elem:\n",
    "        depth(child, level)\n",
    "\n"
   ]
  },
  {
   "cell_type": "markdown",
   "id": "89cf6837",
   "metadata": {},
   "source": [
    "<center> <h3> Closures and Decorators (all – total: 2)</h3>"
   ]
  },
  {
   "cell_type": "markdown",
   "id": "c6b4bc40",
   "metadata": {},
   "source": [
    "#### Standardize Mobile Number Using Decorators"
   ]
  },
  {
   "cell_type": "code",
   "execution_count": null,
   "id": "84cd727c",
   "metadata": {},
   "outputs": [],
   "source": [
    "def wrapper(f):\n",
    "    def fun(l):\n",
    "        # complete the function\n",
    "        formatted_numbers = []\n",
    "        for number in l:\n",
    "            formatted_numbers.append(f\"+91 {number[-10:-5]} {number[-5:]}\")\n",
    "        f(formatted_numbers)\n",
    "    return fun\n",
    "\n"
   ]
  },
  {
   "cell_type": "markdown",
   "id": "458f0a09",
   "metadata": {},
   "source": [
    "#### Decorators 2 -- Name Directory"
   ]
  },
  {
   "cell_type": "code",
   "execution_count": null,
   "id": "c70b660f",
   "metadata": {},
   "outputs": [],
   "source": [
    "\n",
    "\n",
    "def person_lister(f):\n",
    "    def inner(people):\n",
    "        # complete the function\n",
    "        people.sort(key=lambda x: int(x[2]))\n",
    "        formatted_names = [f(person) for person in people]\n",
    "        return formatted_names\n",
    "    return inner\n",
    "\n"
   ]
  },
  {
   "cell_type": "markdown",
   "id": "6775bec4",
   "metadata": {},
   "source": [
    "<center> <h3> Numpy (all – total: 15)</h3>"
   ]
  },
  {
   "cell_type": "markdown",
   "id": "700a5010",
   "metadata": {},
   "source": [
    "#### Array Mathematics"
   ]
  },
  {
   "cell_type": "code",
   "execution_count": null,
   "id": "0344f289",
   "metadata": {},
   "outputs": [],
   "source": [
    "\n",
    "import numpy as np\n",
    "\n",
    "N, M = map(int, input().split())\n",
    "arr1 = np.array(input().split(), int).reshape(N, M)\n",
    "arr2 = np.array(input().split(), int).reshape(N, M)\n",
    "\n",
    "operations = [np.add, np.subtract, np.multiply, np.floor_divide, np.mod, np.power]\n",
    "\n",
    "for operation in operations:\n",
    "    print(operation(arr1, arr2))\n",
    "\n",
    "\n",
    "\n"
   ]
  },
  {
   "cell_type": "markdown",
   "id": "182b7037",
   "metadata": {},
   "source": [
    "#### Arrays"
   ]
  },
  {
   "cell_type": "code",
   "execution_count": null,
   "id": "f5bd5670",
   "metadata": {},
   "outputs": [],
   "source": [
    "\n",
    "\n",
    "def arrays(arr):\n",
    "    # complete this function\n",
    "    # use numpy.array\n",
    "    r_arr = numpy.array(arr[::-1], float)\n",
    "    return r_arr\n",
    "\n"
   ]
  },
  {
   "cell_type": "markdown",
   "id": "df098dc7",
   "metadata": {},
   "source": [
    "#### Shape and Reshape"
   ]
  },
  {
   "cell_type": "code",
   "execution_count": null,
   "id": "40eb0e3f",
   "metadata": {},
   "outputs": [],
   "source": [
    "\n",
    "import numpy as np\n",
    "\n",
    "input_numbers = input()\n",
    "\n",
    "numbers = np.array(input_numbers.split(), dtype=int)\n",
    "array_3x3 = numbers.reshape(3, 3)\n",
    "\n",
    "print(array_3x3)\n"
   ]
  },
  {
   "cell_type": "markdown",
   "id": "da485a92",
   "metadata": {},
   "source": [
    "#### Transpose and Flatten"
   ]
  },
  {
   "cell_type": "code",
   "execution_count": null,
   "id": "66a72e28",
   "metadata": {},
   "outputs": [],
   "source": [
    "import numpy as np\n",
    "\n",
    "N, M = map(int, input().split())\n",
    "\n",
    "matrix = []\n",
    "for _ in range(N):\n",
    "    row = list(map(int, input().split()))\n",
    "    matrix.append(row)\n",
    "\n",
    "arr = np.array(matrix)\n",
    "\n",
    "transpose_arr = np.transpose(arr)\n",
    "print(transpose_arr)\n",
    "\n",
    "flatten_arr = arr.flatten()\n",
    "print(flatten_arr)\n"
   ]
  },
  {
   "cell_type": "markdown",
   "id": "fa116c41",
   "metadata": {},
   "source": [
    "#### Concatenate"
   ]
  },
  {
   "cell_type": "code",
   "execution_count": null,
   "id": "45d4ca8b",
   "metadata": {},
   "outputs": [],
   "source": [
    "\n",
    "\n",
    "import numpy as np\n",
    "\n",
    "N, M, P = map(int, input().split())\n",
    "\n",
    "arr_N = [list(map(int, input().split())) for _ in range(N)]\n",
    "arr_M = [list(map(int, input().split())) for _ in range(M)]\n",
    "\n",
    "np_arr_N = np.array(arr_N)\n",
    "np_arr_M = np.array(arr_M)\n",
    "\n",
    "concat_arr = np.concatenate((np_arr_N, np_arr_M), axis=0)\n",
    "\n",
    "print(concat_arr)\n",
    "\n",
    "\n"
   ]
  },
  {
   "cell_type": "markdown",
   "id": "c434713c",
   "metadata": {},
   "source": [
    "#### Zeros and Ones"
   ]
  },
  {
   "cell_type": "code",
   "execution_count": null,
   "id": "7121bcd0",
   "metadata": {},
   "outputs": [],
   "source": [
    "\n",
    "import numpy as np\n",
    "\n",
    "shape = tuple(map(int, input().split()))\n",
    "\n",
    "arr0 = np.zeros(shape, dtype=int)\n",
    "print(arr0)\n",
    "\n",
    "arr1 = np.ones(shape, dtype=int)\n",
    "print(arr1)\n",
    "\n"
   ]
  },
  {
   "cell_type": "markdown",
   "id": "9a9e5b62",
   "metadata": {},
   "source": [
    "#### Eye and identity"
   ]
  },
  {
   "cell_type": "code",
   "execution_count": null,
   "id": "01660566",
   "metadata": {},
   "outputs": [],
   "source": [
    "import numpy as np\n",
    "\n",
    "np.set_printoptions(legacy=\"1.13\")\n",
    "\n",
    "rows, columns = map(int, input().split())\n",
    "\n",
    "identity_matrix = np.eye(rows, columns, k=0)\n",
    "print(identity_matrix)\n"
   ]
  },
  {
   "cell_type": "markdown",
   "id": "bc795a57",
   "metadata": {},
   "source": [
    "#### Floor ceil and Rint"
   ]
  },
  {
   "cell_type": "code",
   "execution_count": null,
   "id": "bbad3785",
   "metadata": {},
   "outputs": [],
   "source": [
    "\n",
    "\n",
    "import numpy as np\n",
    "\n",
    "# Set print options to legacy format\n",
    "np.set_printoptions(legacy='1.13')\n",
    "\n",
    "# Input: Read the space-separated elements of the array\n",
    "A = np.array(input().split(), float)\n",
    "\n",
    "# Calculate and print the floor, ceil, and rint of A\n",
    "print(np.floor(A))\n",
    "print(np.ceil(A))\n",
    "print(np.rint(A))\n"
   ]
  },
  {
   "cell_type": "markdown",
   "id": "d2513dec",
   "metadata": {},
   "source": [
    "#### Sum and Prod"
   ]
  },
  {
   "cell_type": "code",
   "execution_count": null,
   "id": "13d94657",
   "metadata": {},
   "outputs": [],
   "source": [
    "\n",
    "\n",
    "\n",
    "import numpy as np\n",
    "\n",
    "\n",
    "N, M = map(int, input().split())\n",
    "array = np.array([input().split() for _ in range(N)], dtype=int)\n",
    "sum_along_axis0 = np.sum(array, axis=0)\n",
    "product_of_sum = np.prod(sum_along_axis0)\n",
    "\n",
    "print(product_of_sum)\n",
    "\n"
   ]
  },
  {
   "cell_type": "markdown",
   "id": "5204cef4",
   "metadata": {},
   "source": [
    "#### Min and max"
   ]
  },
  {
   "cell_type": "code",
   "execution_count": null,
   "id": "0f4b6a03",
   "metadata": {},
   "outputs": [],
   "source": [
    "\n",
    "\n",
    "import numpy as np\n",
    "\n",
    "\n",
    "N, M = map(int, input().split())\n",
    "array = np.array([input().split() for _ in range(N)], dtype=int)\n",
    "\n",
    "min_along_axis1 = np.min(array, axis=1)\n",
    "\n",
    "max_of_min = np.max(min_along_axis1)\n",
    "print(max_of_min)\n",
    "\n",
    "\n"
   ]
  },
  {
   "cell_type": "markdown",
   "id": "17f42c79",
   "metadata": {},
   "source": [
    "#### Mean, Var, Std"
   ]
  },
  {
   "cell_type": "code",
   "execution_count": null,
   "id": "f3b9e1e7",
   "metadata": {},
   "outputs": [],
   "source": [
    "import numpy as np\n",
    "\n",
    "N, M = map(int, input().split())\n",
    "arr = np.array([input().split() for _ in range(N)], dtype=int)\n",
    "\n",
    "mean1 = np.mean(arr, axis=1)\n",
    "var0 = np.var(arr, axis=0)\n",
    "std_none = np.std(arr)\n",
    "\n",
    "formatted_mean1 = [f\"{x:.2f}\" for x in mean1]\n",
    "formatted_var0 = [f\"{x:.2f}\" for x in var0]\n",
    "\n",
    "\n",
    "print(mean1)\n",
    "print(var0)\n",
    "print(f\"{std_none:.11f}\")\n"
   ]
  },
  {
   "cell_type": "markdown",
   "id": "cf233d73",
   "metadata": {},
   "source": [
    "#### Dot and Cross"
   ]
  },
  {
   "cell_type": "code",
   "execution_count": null,
   "id": "eb4c592a",
   "metadata": {},
   "outputs": [],
   "source": [
    "import numpy as np\n",
    "\n",
    "X = int(input())\n",
    "\n",
    "array1 = np.array([input().split() for _ in range(X)], dtype=int)\n",
    "\n",
    "array2 = np.array([input().split() for _ in range(X)], dtype=int)\n",
    "\n",
    "result = np.dot(array1, array2)\n",
    "\n",
    "print(result)\n",
    "\n"
   ]
  },
  {
   "cell_type": "markdown",
   "id": "2b62c3aa",
   "metadata": {},
   "source": [
    "#### Inner and outer"
   ]
  },
  {
   "cell_type": "code",
   "execution_count": null,
   "id": "b6839147",
   "metadata": {},
   "outputs": [],
   "source": [
    "import numpy as np\n",
    "\n",
    "array1 = np.array(input().split(), dtype=int)\n",
    "array2 = np.array(input().split(), dtype=int)\n",
    "\n",
    "inner_product = np.inner(array1, array2)\n",
    "outer_product = np.outer(array1, array2)\n",
    "\n",
    "print(inner_product)\n",
    "print(outer_product)\n",
    "\n",
    "\n",
    "\n"
   ]
  },
  {
   "cell_type": "markdown",
   "id": "b3207821",
   "metadata": {},
   "source": [
    "#### Polynomials"
   ]
  },
  {
   "cell_type": "code",
   "execution_count": null,
   "id": "9eb1d02f",
   "metadata": {},
   "outputs": [],
   "source": [
    "import numpy as np\n",
    "\n",
    "coefficients = np.array(input().split(), dtype=float)\n",
    "x = float(input())\n",
    "result = np.polyval(coefficients, x)\n",
    "print(result)\n"
   ]
  },
  {
   "cell_type": "markdown",
   "id": "ac47eca4",
   "metadata": {},
   "source": [
    "#### Linear Algebra"
   ]
  },
  {
   "cell_type": "code",
   "execution_count": null,
   "id": "72efe1ca",
   "metadata": {},
   "outputs": [],
   "source": [
    "import numpy as np\n",
    "\n",
    "X = int(input())\n",
    "matrix = [list(map(float, input().split())) for _ in range(X)]\n",
    "determinant = np.linalg.det(matrix)\n",
    "print(f'{determinant:.1f}')\n"
   ]
  },
  {
   "cell_type": "markdown",
   "id": "685aff8b",
   "metadata": {},
   "source": [
    "<h2> Problem 2. Python Challenges Hackerrank</h2>"
   ]
  },
  {
   "cell_type": "markdown",
   "id": "e29e429a",
   "metadata": {},
   "source": [
    "#### Birthday Cake Candles"
   ]
  },
  {
   "cell_type": "code",
   "execution_count": null,
   "id": "7bb68920",
   "metadata": {},
   "outputs": [],
   "source": [
    "#!/bin/python3\n",
    "\n",
    "import math\n",
    "import os\n",
    "import random\n",
    "import re\n",
    "import sys\n",
    "\n",
    "#\n",
    "# Complete the 'birthdayCakeCandles' function below.\n",
    "#\n",
    "# The function is expected to return an INTEGER.\n",
    "# The function accepts INTEGER_ARRAY candles as parameter.\n",
    "#\n",
    "\n",
    "def birthdayCakeCandles(candles):\n",
    "    # Write your code here\n",
    "    max_height = max(candles) \n",
    "    count = candles.count(max_height)\n",
    "    return count\n",
    "\n",
    "if __name__ == '__main__':\n",
    "    fptr = open(os.environ['OUTPUT_PATH'], 'w')\n",
    "\n",
    "    candles_count = int(input().strip())\n",
    "\n",
    "    candles = list(map(int, input().rstrip().split()))\n",
    "\n",
    "    result = birthdayCakeCandles(candles)\n",
    "\n",
    "    fptr.write(str(result) + '\\n')\n",
    "\n",
    "    fptr.close()\n"
   ]
  },
  {
   "cell_type": "markdown",
   "id": "656ebb37",
   "metadata": {},
   "source": [
    "#### Number Line Jacks(Kangaroo)"
   ]
  },
  {
   "cell_type": "code",
   "execution_count": null,
   "id": "8aca0d3d",
   "metadata": {},
   "outputs": [],
   "source": [
    "#!/bin/python3\n",
    "\n",
    "import math\n",
    "import os\n",
    "import random\n",
    "import re\n",
    "import sys\n",
    "\n",
    "#\n",
    "# Complete the 'kangaroo' function below.\n",
    "#\n",
    "# The function is expected to return a STRING.\n",
    "# The function accepts following parameters:\n",
    "#  1. INTEGER x1\n",
    "#  2. INTEGER v1\n",
    "#  3. INTEGER x2\n",
    "#  4. INTEGER v2\n",
    "#\n",
    "\n",
    "def kangaroo(x1, v1, x2, v2):\n",
    "    # Write your code here\n",
    "    if v2 >= v1 and x1 != x2:    \n",
    "        return 'NO'\n",
    "    else:\n",
    "        if v1 != v2 and (x2 - x1) % (v1 - v2) == 0:\n",
    "            return 'YES'\n",
    "        else:\n",
    "            return 'NO'\n",
    "\n",
    "if __name__ == '__main__':\n",
    "    fptr = open(os.environ['OUTPUT_PATH'], 'w')\n",
    "\n",
    "    first_multiple_input = input().rstrip().split()\n",
    "\n",
    "    x1 = int(first_multiple_input[0])\n",
    "\n",
    "    v1 = int(first_multiple_input[1])\n",
    "\n",
    "    x2 = int(first_multiple_input[2])\n",
    "\n",
    "    v2 = int(first_multiple_input[3])\n",
    "\n",
    "    result = kangaroo(x1, v1, x2, v2)\n",
    "\n",
    "    fptr.write(result + '\\n')\n",
    "\n",
    "    fptr.close()\n"
   ]
  },
  {
   "cell_type": "markdown",
   "id": "a5a9b3ca",
   "metadata": {},
   "source": [
    "#### Viral Advertising"
   ]
  },
  {
   "cell_type": "code",
   "execution_count": null,
   "id": "69c75cf4",
   "metadata": {},
   "outputs": [],
   "source": [
    "#!/bin/python3\n",
    "\n",
    "import math\n",
    "import os\n",
    "import random\n",
    "import re\n",
    "import sys\n",
    "\n",
    "#\n",
    "# Complete the 'viralAdvertising' function below.\n",
    "#\n",
    "# The function is expected to return an INTEGER.\n",
    "# The function accepts INTEGER n as parameter.\n",
    "#\n",
    "\n",
    "def viralAdvertising(n):\n",
    "    # Write your code here\n",
    "    shared = 5 #ad shared with 5 people on first day\n",
    "    cumulative = 0 #cumulative no. of likes are 0\n",
    "    for _ in range(n):\n",
    "        liked = shared // 2 #no of liked ad on that particular date with half of shared\n",
    "        cumulative += liked #ad liked to cumulative with that particular date.\n",
    "        shared = liked * 3 #shared updated \n",
    "    return cumulative\n",
    "\n",
    "if __name__ == '__main__':\n",
    "    fptr = open(os.environ['OUTPUT_PATH'], 'w')\n",
    "\n",
    "    n = int(input().strip())\n",
    "\n",
    "    result = viralAdvertising(n)\n",
    "\n",
    "    fptr.write(str(result) + '\\n')\n",
    "\n",
    "    fptr.close()\n"
   ]
  },
  {
   "cell_type": "markdown",
   "id": "8af2f095",
   "metadata": {},
   "source": [
    "#### Recursive Digit Sum"
   ]
  },
  {
   "cell_type": "code",
   "execution_count": null,
   "id": "ac43488d",
   "metadata": {},
   "outputs": [],
   "source": [
    "#!/bin/python3\n",
    "\n",
    "import math\n",
    "import os\n",
    "import random\n",
    "import re\n",
    "import sys\n",
    "\n",
    "#\n",
    "# Complete the 'superDigit' function below.\n",
    "#\n",
    "# The function is expected to return an INTEGER.\n",
    "# The function accepts following parameters:\n",
    "#  1. STRING n\n",
    "#  2. INTEGER k\n",
    "#\n",
    "\n",
    "def superDigit(n, k):\n",
    "    # Write your code here\n",
    "    n = sum(int(x) for x in str(n)) * k #sum of digits of n and multiplying the sum by k\n",
    "    #replace n with sum of its digits until n is a single digit. \n",
    "    while n > 9:\n",
    "        n = sum(int(x) for x in str(n))\n",
    "    return n\n",
    "    \n",
    "\n",
    "\n",
    "\n",
    "if __name__ == '__main__':\n",
    "    fptr = open(os.environ['OUTPUT_PATH'], 'w')\n",
    "\n",
    "    first_multiple_input = input().rstrip().split()\n",
    "\n",
    "    n = first_multiple_input[0]\n",
    "\n",
    "    k = int(first_multiple_input[1])\n",
    "\n",
    "    result = superDigit(n, k)\n",
    "\n",
    "    fptr.write(str(result) + '\\n')\n",
    "\n",
    "    fptr.close()\n"
   ]
  },
  {
   "cell_type": "markdown",
   "id": "a3385247",
   "metadata": {},
   "source": [
    "#### Insertion Sort-1"
   ]
  },
  {
   "cell_type": "code",
   "execution_count": null,
   "id": "2b8fb50a",
   "metadata": {},
   "outputs": [],
   "source": [
    "#!/bin/python3\n",
    "\n",
    "import math\n",
    "import os\n",
    "import random\n",
    "import re\n",
    "import sys\n",
    "\n",
    "#\n",
    "# Complete the 'insertionSort1' function below.\n",
    "#\n",
    "# The function accepts following parameters:\n",
    "#  1. INTEGER n\n",
    "#  2. INTEGER_ARRAY arr\n",
    "#\n",
    "\n",
    "def insertionSort1(n, arr):\n",
    "    # Write your code here\n",
    "    target = arr[n-1] #target element at rightmost index.\n",
    "    i = n - 2 #compare from second to last element in the array\n",
    "\n",
    "    while (i >= 0) and (arr[i] > target):\n",
    "        arr[i + 1] = arr[i] #shift right until similar value is reached.\n",
    "        i -= 1\n",
    "        print(\" \".join(map(str, arr))) # current array\n",
    "\n",
    "    arr[i + 1] = target #target at the appropriate index\n",
    "    print(\" \".join(map(str, arr))) #final sorted array\n",
    "    \n",
    "\n",
    "if __name__ == '__main__':\n",
    "    n = int(input().strip())\n",
    "\n",
    "    arr = list(map(int, input().rstrip().split()))\n",
    "\n",
    "    insertionSort1(n, arr)\n"
   ]
  },
  {
   "cell_type": "markdown",
   "id": "27353df1",
   "metadata": {},
   "source": [
    "#### Insertion Sort - 2"
   ]
  },
  {
   "cell_type": "code",
   "execution_count": null,
   "id": "0681a65e",
   "metadata": {},
   "outputs": [],
   "source": [
    "#!/bin/python3\n",
    "\n",
    "import math\n",
    "import os\n",
    "import random\n",
    "import re\n",
    "import sys\n",
    "\n",
    "#\n",
    "# Complete the 'insertionSort2' function below.\n",
    "#\n",
    "# The function accepts following parameters:\n",
    "#  1. INTEGER n\n",
    "#  2. INTEGER_ARRAY arr\n",
    "#\n",
    "\n",
    "def insertionSort2(n, arr):\n",
    "    # Write your code here\n",
    "    #iterate starting from second one over each element in the list\n",
    "    for i in range(1, n):\n",
    "        key = arr[i] #target element to be compared with rest\n",
    "        j = i - 1 #index of ast element in sorted array\n",
    "        while j >= 0 and key < arr[j]: #Moving elements of the sorted part of the array that are greater than key,to one position ahead of their current position\n",
    "            arr[j + 1] = arr[j]\n",
    "            j -= 1\n",
    "        arr[j + 1] = key #sorted key \n",
    "        print(' '.join(map(str, arr))) \n",
    "\n",
    "if __name__ == '__main__':\n",
    "    n = int(input().strip())\n",
    "\n",
    "    arr = list(map(int, input().rstrip().split()))\n",
    "\n",
    "    insertionSort2(n, arr)\n"
   ]
  }
 ],
 "metadata": {
  "kernelspec": {
   "display_name": "Python 3 (ipykernel)",
   "language": "python",
   "name": "python3"
  },
  "language_info": {
   "codemirror_mode": {
    "name": "ipython",
    "version": 3
   },
   "file_extension": ".py",
   "mimetype": "text/x-python",
   "name": "python",
   "nbconvert_exporter": "python",
   "pygments_lexer": "ipython3",
   "version": "3.10.11"
  }
 },
 "nbformat": 4,
 "nbformat_minor": 5
}
